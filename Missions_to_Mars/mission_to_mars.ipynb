{
 "cells": [
  {
   "cell_type": "code",
   "execution_count": 93,
   "metadata": {},
   "outputs": [],
   "source": [
    "# Import BeautifulSoup\n",
    "from bs4 import BeautifulSoup\n"
   ]
  },
  {
   "cell_type": "code",
   "execution_count": 60,
   "metadata": {},
   "outputs": [],
   "source": [
    "# Import Splinter and set the chromedriver path\n",
    "from splinter import Browser\n",
    "from time import sleep\n",
    "# A Mac Thing\n",
    "#executable_path = {\"executable_path\": \"/usr/local/bin/chromedriver\"}\n",
    "\n",
    "#PC in path\n",
    "executable_path = {\"executable_path\": \"chromedriver\"}\n",
    "browser = Browser(\"chrome\", **executable_path, headless=False)"
   ]
  },
  {
   "cell_type": "markdown",
   "metadata": {},
   "source": [
    "## NASA Mars News Site"
   ]
  },
  {
   "cell_type": "code",
   "execution_count": 48,
   "metadata": {},
   "outputs": [],
   "source": [
    "# Visit the NASA Mars News URL\n",
    "def get_mars_news():\n",
    "    url = \"https://mars.nasa.gov/news/\"\n",
    "    browser.visit(url)\n",
    "    sleep(1)\n",
    "    html = browser.html\n",
    "    soup = BeautifulSoup(html, 'html.parser')\n",
    "    news_title = soup.find(\"div\", class_=\"content_title\").text\n",
    "    news_p = soup.find(\"div\", class_=\"article_teaser_body\").text\n",
    "    return([{'news_title' : news_title}, {'news_p': news_p}])"
   ]
  },
  {
   "cell_type": "code",
   "execution_count": 34,
   "metadata": {},
   "outputs": [
    {
     "name": "stdout",
     "output_type": "stream",
     "text": [
      "Global Storms on Mars Launch Dust Towers Into the Sky\n",
      "A Mars Dust Tower Stands Out Dust storms are common on Mars. But every decade or so, something unpredictable happens: a series of runaway storms break out, covering the entire planet in a dusty haze.\n"
     ]
    },
    {
     "data": {
      "text/plain": [
       "[{'news_title': 'Global Storms on Mars Launch Dust Towers Into the Sky'},\n",
       " {'news_p': 'A Mars Dust Tower Stands Out Dust storms are common on Mars. But every decade or so, something unpredictable happens: a series of runaway storms break out, covering the entire planet in a dusty haze.'}]"
      ]
     },
     "execution_count": 34,
     "metadata": {},
     "output_type": "execute_result"
    }
   ],
   "source": [
    "get_mars_news()\n"
   ]
  },
  {
   "cell_type": "markdown",
   "metadata": {},
   "source": [
    "## Mars Featured Image"
   ]
  },
  {
   "cell_type": "code",
   "execution_count": 10,
   "metadata": {},
   "outputs": [],
   "source": [
    "# Scrape the browser into soup and use soup to find the full resolution image of Mars\n",
    "# Save the image url to a variable called `img_url`"
   ]
  },
  {
   "cell_type": "code",
   "execution_count": 49,
   "metadata": {},
   "outputs": [],
   "source": [
    "def get_featured_image():\n",
    "    url = \"https://www.jpl.nasa.gov/spaceimages/?search=&category=Mars\"\n",
    "    browser.visit(url)\n",
    "    sleep(1)\n",
    "    browser.click_link_by_partial_text('FULL')\n",
    "    sleep(1)\n",
    "    xpath = \"//*[@id='fancybox-lock']/div/div[1]/img\"\n",
    "    xpic = browser.find_by_xpath(xpath)\n",
    "    featured_image_url = xpic['src']\n",
    "    return featured_image_url"
   ]
  },
  {
   "cell_type": "code",
   "execution_count": 37,
   "metadata": {},
   "outputs": [
    {
     "data": {
      "text/plain": [
       "'https://www.jpl.nasa.gov/spaceimages/images/mediumsize/PIA16613_ip.jpg'"
      ]
     },
     "execution_count": 37,
     "metadata": {},
     "output_type": "execute_result"
    }
   ],
   "source": [
    "get_featured_image()"
   ]
  },
  {
   "cell_type": "markdown",
   "metadata": {},
   "source": [
    "## Mars Weather Tweet"
   ]
  },
  {
   "cell_type": "code",
   "execution_count": 50,
   "metadata": {},
   "outputs": [],
   "source": [
    "def get_mars_weather():\n",
    "    url = \"https://twitter.com/marswxreport?lang=en\"\n",
    "    browser.visit(url)\n",
    "    sleep(1)\n",
    "    html = browser.html\n",
    "    soup = BeautifulSoup(html, 'html.parser')\n",
    "    tweet = soup.find(\"div\", class_=\"js-tweet-text-container\")\n",
    "    mars_weather = tweet.find(\"p\").text\n",
    "    return mars_weather"
   ]
  },
  {
   "cell_type": "code",
   "execution_count": 42,
   "metadata": {},
   "outputs": [
    {
     "data": {
      "text/plain": [
       "'InSight sol 354 (2019-11-24) low -99.7ºC (-147.5ºF) high -22.6ºC (-8.6ºF)\\nwinds from the SSW at 4.8 m/s (10.8 mph) gusting to 23.9 m/s (53.5 mph)\\npressure at 6.80 hPapic.twitter.com/QojEKyxlhp'"
      ]
     },
     "execution_count": 42,
     "metadata": {},
     "output_type": "execute_result"
    }
   ],
   "source": [
    "get_mars_weather()"
   ]
  },
  {
   "cell_type": "markdown",
   "metadata": {},
   "source": [
    "## Mars Facts"
   ]
  },
  {
   "cell_type": "code",
   "execution_count": 88,
   "metadata": {},
   "outputs": [],
   "source": [
    "def get_mars_facts():\n",
    "    url = \"https://space-facts.com/mars/\"\n",
    "    browser.visit(url)\n",
    "    sleep(1)\n",
    "    html = browser.html\n",
    "    soup = BeautifulSoup(html, 'html.parser')\n",
    "\n",
    "    # Step through each section until we get to the table.\n",
    "    side_bar = soup.find(\"section\", class_=\"sidebar\")\n",
    "    side_bar = side_bar.find(\"aside\", class_=\"widget\")\n",
    "    side_bar = side_bar.find(\"div\", class_=\"textwidget\")\n",
    "    side_bar = side_bar.find(\"table\")\n",
    "    side_bar = side_bar.find(\"tbody\")\n",
    "    heading_list = [each.find(\"td\", class_=\"column-1\").get_text() for each in side_bar]\n",
    "    value_list = [each.find(\"td\", class_=\"column-2\").get_text() for each in side_bar]\n",
    "   # mars_table = zip(heading_list, value_list)\n",
    "    mars_table = list(map(list, zip(heading_list, value_list)))\n",
    "    return mars_table"
   ]
  },
  {
   "cell_type": "code",
   "execution_count": 89,
   "metadata": {},
   "outputs": [
    {
     "data": {
      "text/plain": [
       "[['Equatorial Diameter:', '6,792 km'],\n",
       " ['Polar Diameter:', '6,752 km'],\n",
       " ['Mass:', '6.39 × 10^23 kg (0.11 Earths)'],\n",
       " ['Moons:', '2 (Phobos & Deimos)'],\n",
       " ['Orbit Distance:', '227,943,824 km (1.38 AU)'],\n",
       " ['Orbit Period:', '687 days (1.9 years)'],\n",
       " ['Surface Temperature: ', '-87 to -5 °C'],\n",
       " ['First Record:', '2nd millennium BC'],\n",
       " ['Recorded By:', 'Egyptian astronomers']]"
      ]
     },
     "execution_count": 89,
     "metadata": {},
     "output_type": "execute_result"
    }
   ],
   "source": [
    "get_mars_facts()"
   ]
  },
  {
   "cell_type": "markdown",
   "metadata": {},
   "source": [
    "## Mars Hemispheres"
   ]
  },
  {
   "cell_type": "code",
   "execution_count": 74,
   "metadata": {},
   "outputs": [],
   "source": [
    "def get_mars_hemispheres():\n",
    "    base_url = 'https://astrogeology.usgs.gov'\n",
    "    cerberus_url = \"https://astrogeology.usgs.gov/search/map/Mars/Viking/cerberus_enhanced\"\n",
    "    schiaparelli_url = \"https://astrogeology.usgs.gov/search/map/Mars/Viking/schiaparelli_enhanced\"\n",
    "    syrtis_url = \"https://astrogeology.usgs.gov/search/map/Mars/Viking/syrtis_major_enhanced\"\n",
    "    valles_url = \"https://astrogeology.usgs.gov/search/map/Mars/Viking/valles_marineris_enhanced\"\n",
    "    hemi_urls = [cerberus_url, schiaparelli_url, syrtis_url, valles_url]\n",
    "    hemisphere_image_urls = []\n",
    "\n",
    "    for each_hemi in hemi_urls:\n",
    "        browser.visit(each_hemi)\n",
    "        sleep(1)    # Time in seconds\n",
    "        html = browser.html\n",
    "        soup = BeautifulSoup(html, 'html.parser')\n",
    "        title = soup.find('h2', class_=\"title\").text\n",
    "        img_url = base_url + soup.find(\"img\", class_=\"wide-image\")['src']\n",
    "        hemisphere_image_urls.append({'title': title, 'img_url': img_url})    \n",
    "\n",
    "    return hemisphere_image_urls"
   ]
  },
  {
   "cell_type": "code",
   "execution_count": 75,
   "metadata": {},
   "outputs": [
    {
     "data": {
      "text/plain": [
       "[{'title': 'Cerberus Hemisphere Enhanced',\n",
       "  'img_url': 'https://astrogeology.usgs.gov/cache/images/cfa62af2557222a02478f1fcd781d445_cerberus_enhanced.tif_full.jpg'},\n",
       " {'title': 'Schiaparelli Hemisphere Enhanced',\n",
       "  'img_url': 'https://astrogeology.usgs.gov/cache/images/3cdd1cbf5e0813bba925c9030d13b62e_schiaparelli_enhanced.tif_full.jpg'},\n",
       " {'title': 'Syrtis Major Hemisphere Enhanced',\n",
       "  'img_url': 'https://astrogeology.usgs.gov/cache/images/ae209b4e408bb6c3e67b6af38168cf28_syrtis_major_enhanced.tif_full.jpg'},\n",
       " {'title': 'Valles Marineris Hemisphere Enhanced',\n",
       "  'img_url': 'https://astrogeology.usgs.gov/cache/images/7cf2da4bf549ed01c17f206327be4db7_valles_marineris_enhanced.tif_full.jpg'}]"
      ]
     },
     "execution_count": 75,
     "metadata": {},
     "output_type": "execute_result"
    }
   ],
   "source": [
    "get_mars_hemispheres()"
   ]
  },
  {
   "cell_type": "code",
   "execution_count": 80,
   "metadata": {},
   "outputs": [],
   "source": [
    "def scrape():\n",
    "    news = get_mars_news()\n",
    "    \n",
    "    featured = get_featured_image()\n",
    "    \n",
    "    weather = get_mars_weather()\n",
    "    \n",
    "    facts = get_mars_facts()\n",
    "  \n",
    "    hemi = get_mars_hemispheres()\n",
    "\n",
    "    final_dict = {}\n",
    "    final_dict.update(news[0])\n",
    "    final_dict.update(news[1])\n",
    "    final_dict['featured_image'] = featured\n",
    "    final_dict['weather'] = weather\n",
    "    final_dict['facts'] = facts\n",
    "    final_dict['hemispheres'] = hemi\n",
    "\n",
    "    return final_dict    "
   ]
  },
  {
   "cell_type": "code",
   "execution_count": 90,
   "metadata": {},
   "outputs": [],
   "source": [
    "import pprint\n",
    "pp = pprint.PrettyPrinter(indent=1)\n"
   ]
  },
  {
   "cell_type": "code",
   "execution_count": 91,
   "metadata": {},
   "outputs": [
    {
     "name": "stdout",
     "output_type": "stream",
     "text": [
      "{'facts': [['Equatorial Diameter:', '6,792 km'],\n",
      "           ['Polar Diameter:', '6,752 km'],\n",
      "           ['Mass:', '6.39 × 10^23 kg (0.11 Earths)'],\n",
      "           ['Moons:', '2 (Phobos & Deimos)'],\n",
      "           ['Orbit Distance:', '227,943,824 km (1.38 AU)'],\n",
      "           ['Orbit Period:', '687 days (1.9 years)'],\n",
      "           ['Surface Temperature: ', '-87 to -5 °C'],\n",
      "           ['First Record:', '2nd millennium BC'],\n",
      "           ['Recorded By:', 'Egyptian astronomers']],\n",
      " 'featured_image': 'https://www.jpl.nasa.gov/spaceimages/images/mediumsize/PIA17652_ip.jpg',\n",
      " 'hemispheres': [{'img_url': 'https://astrogeology.usgs.gov/cache/images/cfa62af2557222a02478f1fcd781d445_cerberus_enhanced.tif_full.jpg',\n",
      "                  'title': 'Cerberus Hemisphere Enhanced'},\n",
      "                 {'img_url': 'https://astrogeology.usgs.gov/cache/images/3cdd1cbf5e0813bba925c9030d13b62e_schiaparelli_enhanced.tif_full.jpg',\n",
      "                  'title': 'Schiaparelli Hemisphere Enhanced'},\n",
      "                 {'img_url': 'https://astrogeology.usgs.gov/cache/images/ae209b4e408bb6c3e67b6af38168cf28_syrtis_major_enhanced.tif_full.jpg',\n",
      "                  'title': 'Syrtis Major Hemisphere Enhanced'},\n",
      "                 {'img_url': 'https://astrogeology.usgs.gov/cache/images/7cf2da4bf549ed01c17f206327be4db7_valles_marineris_enhanced.tif_full.jpg',\n",
      "                  'title': 'Valles Marineris Hemisphere Enhanced'}],\n",
      " 'news_p': 'A Mars Dust Tower Stands Out Dust storms are common on Mars. But '\n",
      "           'every decade or so, something unpredictable happens: a series of '\n",
      "           'runaway storms break out, covering the entire planet in a dusty '\n",
      "           'haze.',\n",
      " 'news_title': 'Global Storms on Mars Launch Dust Towers Into the Sky',\n",
      " 'weather': 'InSight sol 354 (2019-11-24) low -99.7ºC (-147.5ºF) high -22.6ºC '\n",
      "            '(-8.6ºF)\\n'\n",
      "            'winds from the SSW at 4.8 m/s (10.8 mph) gusting to 23.9 m/s '\n",
      "            '(53.5 mph)\\n'\n",
      "            'pressure at 6.80 hPapic.twitter.com/QojEKyxlhp'}\n"
     ]
    }
   ],
   "source": [
    "    pp.pprint(scrape())"
   ]
  },
  {
   "cell_type": "code",
   "execution_count": 55,
   "metadata": {},
   "outputs": [
    {
     "name": "stdout",
     "output_type": "stream",
     "text": [
      "[{'news_title': 'Global Storms on Mars Launch Dust Towers Into the Sky'}, {'news_p': 'A Mars Dust Tower Stands Out Dust storms are common on Mars. But every decade or so, something unpredictable happens: a series of runaway storms break out, covering the entire planet in a dusty haze.'}]\n",
      "https://www.jpl.nasa.gov/spaceimages/images/mediumsize/PIA18826_ip.jpg\n",
      "InSight sol 354 (2019-11-24) low -99.7ºC (-147.5ºF) high -22.6ºC (-8.6ºF)\n",
      "winds from the SSW at 4.8 m/s (10.8 mph) gusting to 23.9 m/s (53.5 mph)\n",
      "pressure at 6.80 hPapic.twitter.com/QojEKyxlhp\n",
      "<zip object at 0x0000020DE23E0608>\n",
      "[{'title': 'Cerberus Hemisphere Enhanced', 'img_url': 'https://astrogeology.usgs.gov/cache/images/cfa62af2557222a02478f1fcd781d445_cerberus_enhanced.tif_full.jpg'}, {'title': 'Schiaparelli Hemisphere Enhanced', 'img_url': 'https://astrogeology.usgs.gov/cache/images/3cdd1cbf5e0813bba925c9030d13b62e_schiaparelli_enhanced.tif_full.jpg'}, {'title': 'Syrtis Major Hemisphere Enhanced', 'img_url': 'https://astrogeology.usgs.gov/cache/images/ae209b4e408bb6c3e67b6af38168cf28_syrtis_major_enhanced.tif_full.jpg'}, {'title': 'Valles Marineris Hemisphere Enhanced', 'img_url': 'https://astrogeology.usgs.gov/cache/images/7cf2da4bf549ed01c17f206327be4db7_valles_marineris_enhanced.tif_full.jpg'}]\n"
     ]
    }
   ],
   "source": [
    "print(get_mars_news())\n",
    "print(get_featured_image())\n",
    "print(get_mars_weather())\n",
    "print(get_mars_facts())\n",
    "print(get_mars_hemispheres())"
   ]
  },
  {
   "cell_type": "code",
   "execution_count": 24,
   "metadata": {},
   "outputs": [],
   "source": []
  },
  {
   "cell_type": "code",
   "execution_count": 25,
   "metadata": {},
   "outputs": [],
   "source": []
  },
  {
   "cell_type": "code",
   "execution_count": null,
   "metadata": {},
   "outputs": [],
   "source": []
  }
 ],
 "metadata": {
  "kernelspec": {
   "display_name": "Python 3",
   "language": "python",
   "name": "python3"
  },
  "language_info": {
   "codemirror_mode": {
    "name": "ipython",
    "version": 3
   },
   "file_extension": ".py",
   "mimetype": "text/x-python",
   "name": "python",
   "nbconvert_exporter": "python",
   "pygments_lexer": "ipython3",
   "version": "3.6.9"
  },
  "varInspector": {
   "cols": {
    "lenName": 16,
    "lenType": 16,
    "lenVar": 40
   },
   "kernels_config": {
    "python": {
     "delete_cmd_postfix": "",
     "delete_cmd_prefix": "del ",
     "library": "var_list.py",
     "varRefreshCmd": "print(var_dic_list())"
    },
    "r": {
     "delete_cmd_postfix": ") ",
     "delete_cmd_prefix": "rm(",
     "library": "var_list.r",
     "varRefreshCmd": "cat(var_dic_list()) "
    }
   },
   "types_to_exclude": [
    "module",
    "function",
    "builtin_function_or_method",
    "instance",
    "_Feature"
   ],
   "window_display": false
  }
 },
 "nbformat": 4,
 "nbformat_minor": 2
}
